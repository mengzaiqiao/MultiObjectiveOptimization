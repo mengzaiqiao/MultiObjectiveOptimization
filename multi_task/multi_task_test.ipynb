{
 "cells": [
  {
   "cell_type": "code",
   "execution_count": 1,
   "metadata": {},
   "outputs": [],
   "source": [
    "import sys\n",
    "import torch\n",
    "import click\n",
    "import json\n",
    "import datetime\n",
    "from timeit import default_timer as timer\n",
    "\n",
    "import numpy as np\n",
    "\n",
    "import torch\n",
    "import torch.nn as nn\n",
    "import torch.nn.functional as F\n",
    "from torch.autograd import Variable\n",
    "from torch.utils import data\n",
    "import torchvision\n",
    "import types\n",
    "\n",
    "from tqdm import tqdm\n",
    "from tensorboardX import SummaryWriter\n",
    "\n",
    "# from models.gradient_scaler import MinNormElement\n",
    "import losses\n",
    "import datasets\n",
    "import metrics\n",
    "import model_selector\n",
    "from min_norm_solvers import MinNormSolver, gradient_normalizers\n",
    "\n",
    "NUM_EPOCHS = 100"
   ]
  },
  {
   "cell_type": "code",
   "execution_count": 2,
   "metadata": {},
   "outputs": [],
   "source": [
    "with open('../configs.json') as config_params:\n",
    "    configs = json.load(config_params)\n",
    "\n",
    "with open('../mnist.json') as json_params:\n",
    "    params = json.load(json_params)\n",
    "\n",
    "\n",
    "exp_identifier = []\n",
    "for (key, val) in params.items():\n",
    "    if 'tasks' in key:\n",
    "        continue\n",
    "    if 'scales' in key:\n",
    "        continue\n",
    "    exp_identifier+= ['{}={}'.format(key,val)]\n",
    "    \n",
    "exp_identifier = '|'.join(exp_identifier)\n",
    "params['exp_id'] = exp_identifier"
   ]
  },
  {
   "cell_type": "code",
   "execution_count": 3,
   "metadata": {},
   "outputs": [],
   "source": [
    "params['exp_id']=\"test_mlt\""
   ]
  },
  {
   "cell_type": "code",
   "execution_count": 4,
   "metadata": {},
   "outputs": [],
   "source": [
    "writer = SummaryWriter(log_dir='runs/{}_{}'.format(params['exp_id'], datetime.datetime.now().strftime(\"%Y_%m_%d_%H_%M_%S\")))"
   ]
  },
  {
   "cell_type": "code",
   "execution_count": 5,
   "metadata": {},
   "outputs": [
    {
     "name": "stderr",
     "output_type": "stream",
     "text": [
      "  0%|          | 0/100 [00:00<?, ?it/s]"
     ]
    },
    {
     "name": "stdout",
     "output_type": "stream",
     "text": [
      "Starting training with parameters \n",
      " \t{'optimizer': 'Adam', 'batch_size': 256, 'lr': 0.0005, 'dataset': 'mnist', 'tasks': ['L', 'R'], 'normalization_type': 'loss+', 'algorithm': 'mgda', 'use_approximation': False, 'scales': {'L': 0.5, 'R': 0.5}, 'exp_id': 'test_mlt'} \n",
      "\n",
      "Using full solver\n",
      "Epoch 0 Started\n"
     ]
    },
    {
     "name": "stderr",
     "output_type": "stream",
     "text": [
      "/users/tr.zaiqm/anaconda3/lib/python3.6/site-packages/ipykernel_launcher.py:158: UserWarning: volatile was removed and now has no effect. Use `with torch.no_grad():` instead.\n",
      "/users/tr.zaiqm/anaconda3/lib/python3.6/site-packages/ipykernel_launcher.py:165: UserWarning: volatile was removed and now has no effect. Use `with torch.no_grad():` instead.\n",
      "  1%|          | 1/100 [00:16<26:24, 16.00s/it]"
     ]
    },
    {
     "name": "stdout",
     "output_type": "stream",
     "text": [
      "Epoch ended in 16.00476831011474s\n",
      "Epoch 1 Started\n"
     ]
    },
    {
     "name": "stderr",
     "output_type": "stream",
     "text": [
      "  2%|▏         | 2/100 [00:31<26:05, 15.97s/it]"
     ]
    },
    {
     "name": "stdout",
     "output_type": "stream",
     "text": [
      "Epoch ended in 15.898206159938127s\n",
      "Epoch 2 Started\n"
     ]
    },
    {
     "name": "stderr",
     "output_type": "stream",
     "text": [
      "  3%|▎         | 3/100 [00:47<25:37, 15.85s/it]"
     ]
    },
    {
     "name": "stdout",
     "output_type": "stream",
     "text": [
      "Epoch ended in 15.562254683114588s\n",
      "Epoch 3 Started\n"
     ]
    },
    {
     "name": "stderr",
     "output_type": "stream",
     "text": [
      "  4%|▍         | 4/100 [01:03<25:20, 15.84s/it]"
     ]
    },
    {
     "name": "stdout",
     "output_type": "stream",
     "text": [
      "Epoch ended in 15.798544346820563s\n",
      "Epoch 4 Started\n"
     ]
    },
    {
     "name": "stderr",
     "output_type": "stream",
     "text": [
      "  5%|▌         | 5/100 [01:19<25:02, 15.82s/it]"
     ]
    },
    {
     "name": "stdout",
     "output_type": "stream",
     "text": [
      "Epoch ended in 15.76646945020184s\n",
      "Epoch 5 Started\n"
     ]
    },
    {
     "name": "stderr",
     "output_type": "stream",
     "text": [
      "  6%|▌         | 6/100 [01:34<24:44, 15.79s/it]"
     ]
    },
    {
     "name": "stdout",
     "output_type": "stream",
     "text": [
      "Epoch ended in 15.723986465018243s\n",
      "Epoch 6 Started\n"
     ]
    },
    {
     "name": "stderr",
     "output_type": "stream",
     "text": [
      "  7%|▋         | 7/100 [01:50<24:29, 15.80s/it]"
     ]
    },
    {
     "name": "stdout",
     "output_type": "stream",
     "text": [
      "Epoch ended in 15.814092014916241s\n",
      "Epoch 7 Started\n"
     ]
    },
    {
     "name": "stderr",
     "output_type": "stream",
     "text": [
      "  8%|▊         | 8/100 [02:06<24:22, 15.90s/it]"
     ]
    },
    {
     "name": "stdout",
     "output_type": "stream",
     "text": [
      "Epoch ended in 16.120038119144738s\n",
      "Epoch 8 Started\n"
     ]
    },
    {
     "name": "stderr",
     "output_type": "stream",
     "text": [
      "  9%|▉         | 9/100 [02:22<24:16, 16.00s/it]"
     ]
    },
    {
     "name": "stdout",
     "output_type": "stream",
     "text": [
      "Epoch ended in 16.24445695709437s\n",
      "Epoch 9 Started\n",
      "Half the learning rate2115\n"
     ]
    },
    {
     "name": "stderr",
     "output_type": "stream",
     "text": [
      " 10%|█         | 10/100 [02:40<24:53, 16.59s/it]"
     ]
    },
    {
     "name": "stdout",
     "output_type": "stream",
     "text": [
      "Epoch ended in 17.967109113931656s\n",
      "Epoch 10 Started\n"
     ]
    },
    {
     "name": "stderr",
     "output_type": "stream",
     "text": [
      " 11%|█         | 11/100 [02:57<24:41, 16.64s/it]"
     ]
    },
    {
     "name": "stdout",
     "output_type": "stream",
     "text": [
      "Epoch ended in 16.756754010915756s\n",
      "Epoch 11 Started\n"
     ]
    },
    {
     "name": "stderr",
     "output_type": "stream",
     "text": [
      " 12%|█▏        | 12/100 [03:13<23:56, 16.33s/it]"
     ]
    },
    {
     "name": "stdout",
     "output_type": "stream",
     "text": [
      "Epoch ended in 15.59129299223423s\n",
      "Epoch 12 Started\n"
     ]
    },
    {
     "name": "stderr",
     "output_type": "stream",
     "text": [
      " 13%|█▎        | 13/100 [03:28<23:23, 16.13s/it]"
     ]
    },
    {
     "name": "stdout",
     "output_type": "stream",
     "text": [
      "Epoch ended in 15.662181449122727s\n",
      "Epoch 13 Started\n"
     ]
    },
    {
     "name": "stderr",
     "output_type": "stream",
     "text": [
      " 14%|█▍        | 14/100 [03:45<23:05, 16.12s/it]"
     ]
    },
    {
     "name": "stdout",
     "output_type": "stream",
     "text": [
      "Epoch ended in 16.078830441925675s\n",
      "Epoch 14 Started\n"
     ]
    },
    {
     "name": "stderr",
     "output_type": "stream",
     "text": [
      " 15%|█▌        | 15/100 [03:59<22:16, 15.72s/it]"
     ]
    },
    {
     "name": "stdout",
     "output_type": "stream",
     "text": [
      "Epoch ended in 14.806297885254025s\n",
      "Epoch 15 Started\n"
     ]
    },
    {
     "name": "stderr",
     "output_type": "stream",
     "text": [
      " 16%|█▌        | 16/100 [04:15<22:01, 15.73s/it]"
     ]
    },
    {
     "name": "stdout",
     "output_type": "stream",
     "text": [
      "Epoch ended in 15.729598675854504s\n",
      "Epoch 16 Started\n"
     ]
    },
    {
     "name": "stderr",
     "output_type": "stream",
     "text": [
      " 17%|█▋        | 17/100 [04:31<21:56, 15.86s/it]"
     ]
    },
    {
     "name": "stdout",
     "output_type": "stream",
     "text": [
      "Epoch ended in 16.154383201617748s\n",
      "Epoch 17 Started\n"
     ]
    },
    {
     "name": "stderr",
     "output_type": "stream",
     "text": [
      " 18%|█▊        | 18/100 [04:47<21:40, 15.86s/it]"
     ]
    },
    {
     "name": "stdout",
     "output_type": "stream",
     "text": [
      "Epoch ended in 15.878533512819558s\n",
      "Epoch 18 Started\n"
     ]
    },
    {
     "name": "stderr",
     "output_type": "stream",
     "text": [
      " 19%|█▉        | 19/100 [05:03<21:24, 15.86s/it]"
     ]
    },
    {
     "name": "stdout",
     "output_type": "stream",
     "text": [
      "Epoch ended in 15.84704486373812s\n",
      "Epoch 19 Started\n",
      "Half the learning rate4465\n"
     ]
    },
    {
     "name": "stderr",
     "output_type": "stream",
     "text": [
      " 20%|██        | 20/100 [05:20<21:25, 16.07s/it]"
     ]
    },
    {
     "name": "stdout",
     "output_type": "stream",
     "text": [
      "Epoch ended in 16.543569652363658s\n",
      "Epoch 20 Started\n"
     ]
    },
    {
     "name": "stderr",
     "output_type": "stream",
     "text": [
      " 21%|██        | 21/100 [05:36<21:07, 16.04s/it]"
     ]
    },
    {
     "name": "stdout",
     "output_type": "stream",
     "text": [
      "Epoch ended in 15.985974702984095s\n",
      "Epoch 21 Started\n"
     ]
    },
    {
     "name": "stderr",
     "output_type": "stream",
     "text": [
      " 22%|██▏       | 22/100 [05:51<20:44, 15.96s/it]"
     ]
    },
    {
     "name": "stdout",
     "output_type": "stream",
     "text": [
      "Epoch ended in 15.768231051973999s\n",
      "Epoch 22 Started\n"
     ]
    },
    {
     "name": "stderr",
     "output_type": "stream",
     "text": [
      " 23%|██▎       | 23/100 [06:07<20:26, 15.93s/it]"
     ]
    },
    {
     "name": "stdout",
     "output_type": "stream",
     "text": [
      "Epoch ended in 15.855333028826863s\n",
      "Epoch 23 Started\n"
     ]
    },
    {
     "name": "stderr",
     "output_type": "stream",
     "text": [
      " 24%|██▍       | 24/100 [06:23<20:02, 15.83s/it]"
     ]
    },
    {
     "name": "stdout",
     "output_type": "stream",
     "text": [
      "Epoch ended in 15.5777299660258s\n",
      "Epoch 24 Started\n"
     ]
    },
    {
     "name": "stderr",
     "output_type": "stream",
     "text": [
      " 25%|██▌       | 25/100 [06:38<19:42, 15.76s/it]"
     ]
    },
    {
     "name": "stdout",
     "output_type": "stream",
     "text": [
      "Epoch ended in 15.608155766967684s\n",
      "Epoch 25 Started\n"
     ]
    },
    {
     "name": "stderr",
     "output_type": "stream",
     "text": [
      " 26%|██▌       | 26/100 [06:54<19:17, 15.65s/it]"
     ]
    },
    {
     "name": "stdout",
     "output_type": "stream",
     "text": [
      "Epoch ended in 15.370994047727436s\n",
      "Epoch 26 Started\n"
     ]
    },
    {
     "name": "stderr",
     "output_type": "stream",
     "text": [
      " 27%|██▋       | 27/100 [07:09<19:01, 15.64s/it]"
     ]
    },
    {
     "name": "stdout",
     "output_type": "stream",
     "text": [
      "Epoch ended in 15.633977610617876s\n",
      "Epoch 27 Started\n"
     ]
    },
    {
     "name": "stderr",
     "output_type": "stream",
     "text": [
      " 28%|██▊       | 28/100 [07:25<18:52, 15.73s/it]"
     ]
    },
    {
     "name": "stdout",
     "output_type": "stream",
     "text": [
      "Epoch ended in 15.941795939113945s\n",
      "Epoch 28 Started\n"
     ]
    },
    {
     "name": "stderr",
     "output_type": "stream",
     "text": [
      " 29%|██▉       | 29/100 [07:41<18:36, 15.73s/it]"
     ]
    },
    {
     "name": "stdout",
     "output_type": "stream",
     "text": [
      "Epoch ended in 15.727257839869708s\n",
      "Epoch 29 Started\n",
      "Half the learning rate6815\n"
     ]
    },
    {
     "name": "stderr",
     "output_type": "stream",
     "text": [
      " 30%|███       | 30/100 [07:56<18:12, 15.61s/it]"
     ]
    },
    {
     "name": "stdout",
     "output_type": "stream",
     "text": [
      "Epoch ended in 15.31800963031128s\n",
      "Epoch 30 Started\n"
     ]
    },
    {
     "name": "stderr",
     "output_type": "stream",
     "text": [
      " 31%|███       | 31/100 [08:12<17:51, 15.53s/it]"
     ]
    },
    {
     "name": "stdout",
     "output_type": "stream",
     "text": [
      "Epoch ended in 15.344443827867508s\n",
      "Epoch 31 Started\n"
     ]
    },
    {
     "name": "stderr",
     "output_type": "stream",
     "text": [
      " 32%|███▏      | 32/100 [08:27<17:36, 15.53s/it]"
     ]
    },
    {
     "name": "stdout",
     "output_type": "stream",
     "text": [
      "Epoch ended in 15.530299884267151s\n",
      "Epoch 32 Started\n"
     ]
    },
    {
     "name": "stderr",
     "output_type": "stream",
     "text": [
      " 33%|███▎      | 33/100 [08:43<17:22, 15.56s/it]"
     ]
    },
    {
     "name": "stdout",
     "output_type": "stream",
     "text": [
      "Epoch ended in 15.620857571717352s\n",
      "Epoch 33 Started\n"
     ]
    },
    {
     "name": "stderr",
     "output_type": "stream",
     "text": [
      " 34%|███▍      | 34/100 [08:59<17:11, 15.63s/it]"
     ]
    },
    {
     "name": "stdout",
     "output_type": "stream",
     "text": [
      "Epoch ended in 15.78773481072858s\n",
      "Epoch 34 Started\n"
     ]
    },
    {
     "name": "stderr",
     "output_type": "stream",
     "text": [
      " 35%|███▌      | 35/100 [09:14<16:53, 15.59s/it]"
     ]
    },
    {
     "name": "stdout",
     "output_type": "stream",
     "text": [
      "Epoch ended in 15.488583808299154s\n",
      "Epoch 35 Started\n"
     ]
    },
    {
     "name": "stderr",
     "output_type": "stream",
     "text": [
      " 36%|███▌      | 36/100 [09:30<16:38, 15.61s/it]"
     ]
    },
    {
     "name": "stdout",
     "output_type": "stream",
     "text": [
      "Epoch ended in 15.643610467668623s\n",
      "Epoch 36 Started\n"
     ]
    },
    {
     "name": "stderr",
     "output_type": "stream",
     "text": [
      " 37%|███▋      | 37/100 [09:46<16:25, 15.65s/it]"
     ]
    },
    {
     "name": "stdout",
     "output_type": "stream",
     "text": [
      "Epoch ended in 15.738160952925682s\n",
      "Epoch 37 Started\n"
     ]
    },
    {
     "name": "stderr",
     "output_type": "stream",
     "text": [
      " 38%|███▊      | 38/100 [10:01<16:12, 15.69s/it]"
     ]
    },
    {
     "name": "stdout",
     "output_type": "stream",
     "text": [
      "Epoch ended in 15.798099190928042s\n",
      "Epoch 38 Started\n"
     ]
    },
    {
     "name": "stderr",
     "output_type": "stream",
     "text": [
      " 39%|███▉      | 39/100 [10:17<15:51, 15.59s/it]"
     ]
    },
    {
     "name": "stdout",
     "output_type": "stream",
     "text": [
      "Epoch ended in 15.363095710985363s\n",
      "Epoch 39 Started\n",
      "Half the learning rate9165\n"
     ]
    },
    {
     "name": "stderr",
     "output_type": "stream",
     "text": [
      " 40%|████      | 40/100 [10:33<15:44, 15.75s/it]"
     ]
    },
    {
     "name": "stdout",
     "output_type": "stream",
     "text": [
      "Epoch ended in 16.101273177191615s\n",
      "Epoch 40 Started\n"
     ]
    },
    {
     "name": "stderr",
     "output_type": "stream",
     "text": [
      " 41%|████      | 41/100 [10:48<15:20, 15.59s/it]"
     ]
    },
    {
     "name": "stdout",
     "output_type": "stream",
     "text": [
      "Epoch ended in 15.233121388591826s\n",
      "Epoch 41 Started\n"
     ]
    },
    {
     "name": "stderr",
     "output_type": "stream",
     "text": [
      " 42%|████▏     | 42/100 [11:04<15:06, 15.64s/it]"
     ]
    },
    {
     "name": "stdout",
     "output_type": "stream",
     "text": [
      "Epoch ended in 15.732744091190398s\n",
      "Epoch 42 Started\n"
     ]
    },
    {
     "name": "stderr",
     "output_type": "stream",
     "text": [
      " 43%|████▎     | 43/100 [11:19<14:52, 15.66s/it]"
     ]
    },
    {
     "name": "stdout",
     "output_type": "stream",
     "text": [
      "Epoch ended in 15.71235195081681s\n",
      "Epoch 43 Started\n"
     ]
    },
    {
     "name": "stderr",
     "output_type": "stream",
     "text": [
      " 44%|████▍     | 44/100 [11:36<14:47, 15.85s/it]"
     ]
    },
    {
     "name": "stdout",
     "output_type": "stream",
     "text": [
      "Epoch ended in 16.303636104334146s\n",
      "Epoch 44 Started\n"
     ]
    },
    {
     "name": "stderr",
     "output_type": "stream",
     "text": [
      " 45%|████▌     | 45/100 [11:51<14:26, 15.75s/it]"
     ]
    },
    {
     "name": "stdout",
     "output_type": "stream",
     "text": [
      "Epoch ended in 15.490891072899103s\n",
      "Epoch 45 Started\n"
     ]
    },
    {
     "name": "stderr",
     "output_type": "stream",
     "text": [
      " 46%|████▌     | 46/100 [12:07<14:10, 15.76s/it]"
     ]
    },
    {
     "name": "stdout",
     "output_type": "stream",
     "text": [
      "Epoch ended in 15.774515850003809s\n",
      "Epoch 46 Started\n"
     ]
    },
    {
     "name": "stderr",
     "output_type": "stream",
     "text": [
      " 47%|████▋     | 47/100 [12:23<13:56, 15.78s/it]"
     ]
    },
    {
     "name": "stdout",
     "output_type": "stream",
     "text": [
      "Epoch ended in 15.819985467009246s\n",
      "Epoch 47 Started\n"
     ]
    },
    {
     "name": "stderr",
     "output_type": "stream",
     "text": [
      " 48%|████▊     | 48/100 [12:39<13:40, 15.78s/it]"
     ]
    },
    {
     "name": "stdout",
     "output_type": "stream",
     "text": [
      "Epoch ended in 15.794760087970644s\n",
      "Epoch 48 Started\n"
     ]
    },
    {
     "name": "stderr",
     "output_type": "stream",
     "text": [
      " 49%|████▉     | 49/100 [12:57<13:57, 16.43s/it]"
     ]
    },
    {
     "name": "stdout",
     "output_type": "stream",
     "text": [
      "Epoch ended in 17.922455388121307s\n",
      "Epoch 49 Started\n",
      "Half the learning rate11515\n"
     ]
    },
    {
     "name": "stderr",
     "output_type": "stream",
     "text": [
      " 50%|█████     | 50/100 [13:12<13:30, 16.20s/it]"
     ]
    },
    {
     "name": "stdout",
     "output_type": "stream",
     "text": [
      "Epoch ended in 15.67321149026975s\n",
      "Epoch 50 Started\n"
     ]
    },
    {
     "name": "stderr",
     "output_type": "stream",
     "text": [
      " 51%|█████     | 51/100 [13:28<13:03, 15.99s/it]"
     ]
    },
    {
     "name": "stdout",
     "output_type": "stream",
     "text": [
      "Epoch ended in 15.50180999096483s\n",
      "Epoch 51 Started\n"
     ]
    },
    {
     "name": "stderr",
     "output_type": "stream",
     "text": [
      " 52%|█████▏    | 52/100 [13:44<12:47, 15.98s/it]"
     ]
    },
    {
     "name": "stdout",
     "output_type": "stream",
     "text": [
      "Epoch ended in 15.966197737958282s\n",
      "Epoch 52 Started\n"
     ]
    },
    {
     "name": "stderr",
     "output_type": "stream",
     "text": [
      " 53%|█████▎    | 53/100 [13:59<12:18, 15.72s/it]"
     ]
    },
    {
     "name": "stdout",
     "output_type": "stream",
     "text": [
      "Epoch ended in 15.109480869956315s\n",
      "Epoch 53 Started\n"
     ]
    },
    {
     "name": "stderr",
     "output_type": "stream",
     "text": [
      " 54%|█████▍    | 54/100 [14:14<11:52, 15.49s/it]"
     ]
    },
    {
     "name": "stdout",
     "output_type": "stream",
     "text": [
      "Epoch ended in 14.928702285978943s\n",
      "Epoch 54 Started\n"
     ]
    },
    {
     "name": "stderr",
     "output_type": "stream",
     "text": [
      " 55%|█████▌    | 55/100 [14:30<11:40, 15.57s/it]"
     ]
    },
    {
     "name": "stdout",
     "output_type": "stream",
     "text": [
      "Epoch ended in 15.770480618346483s\n",
      "Epoch 55 Started\n"
     ]
    },
    {
     "name": "stderr",
     "output_type": "stream",
     "text": [
      " 56%|█████▌    | 56/100 [14:46<11:39, 15.89s/it]"
     ]
    },
    {
     "name": "stdout",
     "output_type": "stream",
     "text": [
      "Epoch ended in 16.623234272934496s\n",
      "Epoch 56 Started\n"
     ]
    },
    {
     "name": "stderr",
     "output_type": "stream",
     "text": [
      " 57%|█████▋    | 57/100 [15:02<11:21, 15.86s/it]"
     ]
    },
    {
     "name": "stdout",
     "output_type": "stream",
     "text": [
      "Epoch ended in 15.776146022137254s\n",
      "Epoch 57 Started\n"
     ]
    },
    {
     "name": "stderr",
     "output_type": "stream",
     "text": [
      " 58%|█████▊    | 58/100 [15:18<11:04, 15.82s/it]"
     ]
    },
    {
     "name": "stdout",
     "output_type": "stream",
     "text": [
      "Epoch ended in 15.741465223021805s\n",
      "Epoch 58 Started\n"
     ]
    },
    {
     "name": "stderr",
     "output_type": "stream",
     "text": [
      " 59%|█████▉    | 59/100 [15:34<10:59, 16.09s/it]"
     ]
    },
    {
     "name": "stdout",
     "output_type": "stream",
     "text": [
      "Epoch ended in 16.69982324866578s\n",
      "Epoch 59 Started\n",
      "Half the learning rate13865\n"
     ]
    },
    {
     "name": "stderr",
     "output_type": "stream",
     "text": [
      " 60%|██████    | 60/100 [15:50<10:33, 15.84s/it]"
     ]
    },
    {
     "name": "stdout",
     "output_type": "stream",
     "text": [
      "Epoch ended in 15.266133644618094s\n",
      "Epoch 60 Started\n"
     ]
    },
    {
     "name": "stderr",
     "output_type": "stream",
     "text": [
      " 61%|██████    | 61/100 [16:05<10:16, 15.82s/it]"
     ]
    },
    {
     "name": "stdout",
     "output_type": "stream",
     "text": [
      "Epoch ended in 15.766564626712352s\n",
      "Epoch 61 Started\n"
     ]
    },
    {
     "name": "stderr",
     "output_type": "stream",
     "text": [
      " 62%|██████▏   | 62/100 [16:21<10:00, 15.79s/it]"
     ]
    },
    {
     "name": "stdout",
     "output_type": "stream",
     "text": [
      "Epoch ended in 15.718567826785147s\n",
      "Epoch 62 Started\n"
     ]
    },
    {
     "name": "stderr",
     "output_type": "stream",
     "text": [
      " 63%|██████▎   | 63/100 [16:37<09:43, 15.76s/it]"
     ]
    },
    {
     "name": "stdout",
     "output_type": "stream",
     "text": [
      "Epoch ended in 15.675336759071797s\n",
      "Epoch 63 Started\n"
     ]
    },
    {
     "name": "stderr",
     "output_type": "stream",
     "text": [
      " 64%|██████▍   | 64/100 [16:52<09:25, 15.70s/it]"
     ]
    },
    {
     "name": "stdout",
     "output_type": "stream",
     "text": [
      "Epoch ended in 15.550255964044482s\n",
      "Epoch 64 Started\n"
     ]
    },
    {
     "name": "stderr",
     "output_type": "stream",
     "text": [
      " 65%|██████▌   | 65/100 [17:08<09:06, 15.63s/it]"
     ]
    },
    {
     "name": "stdout",
     "output_type": "stream",
     "text": [
      "Epoch ended in 15.463217579759657s\n",
      "Epoch 65 Started\n"
     ]
    },
    {
     "name": "stderr",
     "output_type": "stream",
     "text": [
      " 66%|██████▌   | 66/100 [17:23<08:50, 15.61s/it]"
     ]
    },
    {
     "name": "stdout",
     "output_type": "stream",
     "text": [
      "Epoch ended in 15.568036040756851s\n",
      "Epoch 66 Started\n"
     ]
    },
    {
     "name": "stderr",
     "output_type": "stream",
     "text": [
      " 67%|██████▋   | 67/100 [17:39<08:35, 15.62s/it]"
     ]
    },
    {
     "name": "stdout",
     "output_type": "stream",
     "text": [
      "Epoch ended in 15.650450848974288s\n",
      "Epoch 67 Started\n"
     ]
    },
    {
     "name": "stderr",
     "output_type": "stream",
     "text": [
      " 68%|██████▊   | 68/100 [17:55<08:19, 15.62s/it]"
     ]
    },
    {
     "name": "stdout",
     "output_type": "stream",
     "text": [
      "Epoch ended in 15.609448031987995s\n",
      "Epoch 68 Started\n"
     ]
    },
    {
     "name": "stderr",
     "output_type": "stream",
     "text": [
      " 69%|██████▉   | 69/100 [18:11<08:08, 15.76s/it]"
     ]
    },
    {
     "name": "stdout",
     "output_type": "stream",
     "text": [
      "Epoch ended in 16.079026114195585s\n",
      "Epoch 69 Started\n",
      "Half the learning rate16215\n"
     ]
    },
    {
     "name": "stderr",
     "output_type": "stream",
     "text": [
      " 70%|███████   | 70/100 [18:27<07:52, 15.76s/it]"
     ]
    },
    {
     "name": "stdout",
     "output_type": "stream",
     "text": [
      "Epoch ended in 15.762025830801576s\n",
      "Epoch 70 Started\n"
     ]
    },
    {
     "name": "stderr",
     "output_type": "stream",
     "text": [
      " 71%|███████   | 71/100 [18:42<07:34, 15.67s/it]"
     ]
    },
    {
     "name": "stdout",
     "output_type": "stream",
     "text": [
      "Epoch ended in 15.455291201826185s\n",
      "Epoch 71 Started\n"
     ]
    },
    {
     "name": "stderr",
     "output_type": "stream",
     "text": [
      " 72%|███████▏  | 72/100 [18:58<07:20, 15.73s/it]"
     ]
    },
    {
     "name": "stdout",
     "output_type": "stream",
     "text": [
      "Epoch ended in 15.85220294399187s\n",
      "Epoch 72 Started\n"
     ]
    },
    {
     "name": "stderr",
     "output_type": "stream",
     "text": [
      " 73%|███████▎  | 73/100 [19:14<07:06, 15.80s/it]"
     ]
    },
    {
     "name": "stdout",
     "output_type": "stream",
     "text": [
      "Epoch ended in 15.97300068102777s\n",
      "Epoch 73 Started\n"
     ]
    },
    {
     "name": "stderr",
     "output_type": "stream",
     "text": [
      " 74%|███████▍  | 74/100 [19:30<06:50, 15.81s/it]"
     ]
    },
    {
     "name": "stdout",
     "output_type": "stream",
     "text": [
      "Epoch ended in 15.820833961945027s\n",
      "Epoch 74 Started\n"
     ]
    },
    {
     "name": "stderr",
     "output_type": "stream",
     "text": [
      " 75%|███████▌  | 75/100 [19:45<06:31, 15.67s/it]"
     ]
    },
    {
     "name": "stdout",
     "output_type": "stream",
     "text": [
      "Epoch ended in 15.330484848935157s\n",
      "Epoch 75 Started\n"
     ]
    },
    {
     "name": "stderr",
     "output_type": "stream",
     "text": [
      " 76%|███████▌  | 76/100 [20:01<06:17, 15.72s/it]"
     ]
    },
    {
     "name": "stdout",
     "output_type": "stream",
     "text": [
      "Epoch ended in 15.846316321752965s\n",
      "Epoch 76 Started\n"
     ]
    },
    {
     "name": "stderr",
     "output_type": "stream",
     "text": [
      " 77%|███████▋  | 77/100 [20:17<06:04, 15.87s/it]"
     ]
    },
    {
     "name": "stdout",
     "output_type": "stream",
     "text": [
      "Epoch ended in 16.20971363224089s\n",
      "Epoch 77 Started\n"
     ]
    },
    {
     "name": "stderr",
     "output_type": "stream",
     "text": [
      " 78%|███████▊  | 78/100 [20:33<05:51, 15.98s/it]"
     ]
    },
    {
     "name": "stdout",
     "output_type": "stream",
     "text": [
      "Epoch ended in 16.234544970095158s\n",
      "Epoch 78 Started\n"
     ]
    },
    {
     "name": "stderr",
     "output_type": "stream",
     "text": [
      " 79%|███████▉  | 79/100 [20:49<05:35, 15.96s/it]"
     ]
    },
    {
     "name": "stdout",
     "output_type": "stream",
     "text": [
      "Epoch ended in 15.919654270168394s\n",
      "Epoch 79 Started\n",
      "Half the learning rate18565\n"
     ]
    },
    {
     "name": "stderr",
     "output_type": "stream",
     "text": [
      " 80%|████████  | 80/100 [21:06<05:25, 16.28s/it]"
     ]
    },
    {
     "name": "stdout",
     "output_type": "stream",
     "text": [
      "Epoch ended in 17.004878935869783s\n",
      "Epoch 80 Started\n"
     ]
    },
    {
     "name": "stderr",
     "output_type": "stream",
     "text": [
      " 81%|████████  | 81/100 [21:22<05:05, 16.07s/it]"
     ]
    },
    {
     "name": "stdout",
     "output_type": "stream",
     "text": [
      "Epoch ended in 15.588367511052638s\n",
      "Epoch 81 Started\n"
     ]
    },
    {
     "name": "stderr",
     "output_type": "stream",
     "text": [
      " 82%|████████▏ | 82/100 [21:38<04:48, 16.01s/it]"
     ]
    },
    {
     "name": "stdout",
     "output_type": "stream",
     "text": [
      "Epoch ended in 15.853535799775273s\n",
      "Epoch 82 Started\n"
     ]
    },
    {
     "name": "stderr",
     "output_type": "stream",
     "text": [
      " 83%|████████▎ | 83/100 [21:53<04:28, 15.79s/it]"
     ]
    },
    {
     "name": "stdout",
     "output_type": "stream",
     "text": [
      "Epoch ended in 15.293893642257899s\n",
      "Epoch 83 Started\n"
     ]
    },
    {
     "name": "stderr",
     "output_type": "stream",
     "text": [
      " 84%|████████▍ | 84/100 [22:09<04:12, 15.78s/it]"
     ]
    },
    {
     "name": "stdout",
     "output_type": "stream",
     "text": [
      "Epoch ended in 15.736170151270926s\n",
      "Epoch 84 Started\n"
     ]
    },
    {
     "name": "stderr",
     "output_type": "stream",
     "text": [
      " 85%|████████▌ | 85/100 [22:25<03:57, 15.84s/it]"
     ]
    },
    {
     "name": "stdout",
     "output_type": "stream",
     "text": [
      "Epoch ended in 15.969654724933207s\n",
      "Epoch 85 Started\n"
     ]
    },
    {
     "name": "stderr",
     "output_type": "stream",
     "text": [
      " 86%|████████▌ | 86/100 [22:41<03:42, 15.90s/it]"
     ]
    },
    {
     "name": "stdout",
     "output_type": "stream",
     "text": [
      "Epoch ended in 16.038098993711174s\n",
      "Epoch 86 Started\n"
     ]
    },
    {
     "name": "stderr",
     "output_type": "stream",
     "text": [
      " 87%|████████▋ | 87/100 [22:57<03:29, 16.14s/it]"
     ]
    },
    {
     "name": "stdout",
     "output_type": "stream",
     "text": [
      "Epoch ended in 16.704358438029885s\n",
      "Epoch 87 Started\n"
     ]
    },
    {
     "name": "stderr",
     "output_type": "stream",
     "text": [
      " 88%|████████▊ | 88/100 [23:13<03:12, 16.04s/it]"
     ]
    },
    {
     "name": "stdout",
     "output_type": "stream",
     "text": [
      "Epoch ended in 15.805752066895366s\n",
      "Epoch 88 Started\n"
     ]
    },
    {
     "name": "stderr",
     "output_type": "stream",
     "text": [
      " 89%|████████▉ | 89/100 [23:30<02:58, 16.22s/it]"
     ]
    },
    {
     "name": "stdout",
     "output_type": "stream",
     "text": [
      "Epoch ended in 16.624304501339793s\n",
      "Epoch 89 Started\n",
      "Half the learning rate20915\n"
     ]
    },
    {
     "name": "stderr",
     "output_type": "stream",
     "text": [
      " 90%|█████████ | 90/100 [23:45<02:39, 15.91s/it]"
     ]
    },
    {
     "name": "stdout",
     "output_type": "stream",
     "text": [
      "Epoch ended in 15.181192980147898s\n",
      "Epoch 90 Started\n"
     ]
    },
    {
     "name": "stderr",
     "output_type": "stream",
     "text": [
      " 91%|█████████ | 91/100 [24:01<02:22, 15.83s/it]"
     ]
    },
    {
     "name": "stdout",
     "output_type": "stream",
     "text": [
      "Epoch ended in 15.658204676117748s\n",
      "Epoch 91 Started\n"
     ]
    },
    {
     "name": "stderr",
     "output_type": "stream",
     "text": [
      " 92%|█████████▏| 92/100 [24:16<02:05, 15.69s/it]"
     ]
    },
    {
     "name": "stdout",
     "output_type": "stream",
     "text": [
      "Epoch ended in 15.35512958234176s\n",
      "Epoch 92 Started\n"
     ]
    },
    {
     "name": "stderr",
     "output_type": "stream",
     "text": [
      " 93%|█████████▎| 93/100 [24:32<01:49, 15.62s/it]"
     ]
    },
    {
     "name": "stdout",
     "output_type": "stream",
     "text": [
      "Epoch ended in 15.456271653994918s\n",
      "Epoch 93 Started\n"
     ]
    },
    {
     "name": "stderr",
     "output_type": "stream",
     "text": [
      " 94%|█████████▍| 94/100 [24:47<01:33, 15.58s/it]"
     ]
    },
    {
     "name": "stdout",
     "output_type": "stream",
     "text": [
      "Epoch ended in 15.478736952878535s\n",
      "Epoch 94 Started\n"
     ]
    },
    {
     "name": "stderr",
     "output_type": "stream",
     "text": [
      " 95%|█████████▌| 95/100 [25:03<01:18, 15.60s/it]"
     ]
    },
    {
     "name": "stdout",
     "output_type": "stream",
     "text": [
      "Epoch ended in 15.66035548131913s\n",
      "Epoch 95 Started\n"
     ]
    },
    {
     "name": "stderr",
     "output_type": "stream",
     "text": [
      " 96%|█████████▌| 96/100 [25:18<01:02, 15.57s/it]"
     ]
    },
    {
     "name": "stdout",
     "output_type": "stream",
     "text": [
      "Epoch ended in 15.496790060773492s\n",
      "Epoch 96 Started\n"
     ]
    },
    {
     "name": "stderr",
     "output_type": "stream",
     "text": [
      " 97%|█████████▋| 97/100 [25:34<00:46, 15.51s/it]"
     ]
    },
    {
     "name": "stdout",
     "output_type": "stream",
     "text": [
      "Epoch ended in 15.348755285143852s\n",
      "Epoch 97 Started\n"
     ]
    },
    {
     "name": "stderr",
     "output_type": "stream",
     "text": [
      " 98%|█████████▊| 98/100 [25:49<00:31, 15.51s/it]"
     ]
    },
    {
     "name": "stdout",
     "output_type": "stream",
     "text": [
      "Epoch ended in 15.504949799273163s\n",
      "Epoch 98 Started\n"
     ]
    },
    {
     "name": "stderr",
     "output_type": "stream",
     "text": [
      " 99%|█████████▉| 99/100 [26:05<00:15, 15.54s/it]"
     ]
    },
    {
     "name": "stdout",
     "output_type": "stream",
     "text": [
      "Epoch ended in 15.597728090826422s\n",
      "Epoch 99 Started\n",
      "Half the learning rate23265\n"
     ]
    },
    {
     "name": "stderr",
     "output_type": "stream",
     "text": [
      "100%|██████████| 100/100 [26:21<00:00, 15.70s/it]"
     ]
    },
    {
     "name": "stdout",
     "output_type": "stream",
     "text": [
      "Epoch ended in 16.085932726971805s\n"
     ]
    },
    {
     "name": "stderr",
     "output_type": "stream",
     "text": [
      "\n"
     ]
    }
   ],
   "source": [
    "# @click.command()\n",
    "# @click.option('--param_file', default='params.json', help='JSON parameters file')\n",
    "\n",
    "train_loader, train_dst, val_loader, val_dst = datasets.get_dataset(params, configs)\n",
    "\n",
    "loss_fn = losses.get_loss(params)\n",
    "metric = metrics.get_metrics(params)\n",
    "\n",
    "model = model_selector.get_model(params)\n",
    "model_params = []\n",
    "for m in model:\n",
    "    model_params += model[m].parameters()\n",
    "\n",
    "if 'RMSprop' in params['optimizer']:\n",
    "    optimizer = torch.optim.RMSprop(model_params, lr=params['lr'])\n",
    "elif 'Adam' in params['optimizer']:\n",
    "    optimizer = torch.optim.Adam(model_params, lr=params['lr'])\n",
    "elif 'SGD' in params['optimizer']:\n",
    "    optimizer = torch.optim.SGD(model_params, lr=params['lr'], momentum=0.9)\n",
    "\n",
    "tasks = params['tasks']\n",
    "all_tasks = configs[params['dataset']]['all_tasks']\n",
    "print('Starting training with parameters \\n \\t{} \\n'.format(str(params)))\n",
    "\n",
    "if 'mgda' in params['algorithm']:\n",
    "    approximate_norm_solution = params['use_approximation']\n",
    "    if approximate_norm_solution:\n",
    "        print('Using approximate min-norm solver')\n",
    "    else:\n",
    "        print('Using full solver')\n",
    "        \n",
    "n_iter = 0\n",
    "loss_init = {}\n",
    "for epoch in tqdm(range(NUM_EPOCHS)):\n",
    "    start = timer()\n",
    "    print('Epoch {} Started'.format(epoch))\n",
    "    if (epoch+1) % 10 == 0:\n",
    "        # Every 50 epoch, half the LR\n",
    "        for param_group in optimizer.param_groups:\n",
    "            param_group['lr'] *= 0.85\n",
    "        print('Half the learning rate{}'.format(n_iter))\n",
    "\n",
    "    for m in model:\n",
    "        model[m].train()\n",
    "\n",
    "    for batch in train_loader:\n",
    "        n_iter += 1\n",
    "        # First member is always images\n",
    "        images = batch[0]\n",
    "        images = Variable(images.cuda())\n",
    "\n",
    "        labels = {}\n",
    "        # Read all targets of all tasks\n",
    "        for i, t in enumerate(all_tasks):\n",
    "            if t not in tasks:\n",
    "                continue\n",
    "            labels[t] = batch[i+1]\n",
    "            labels[t] = Variable(labels[t].cuda())\n",
    "\n",
    "        # Scaling the loss functions based on the algorithm choice\n",
    "        loss_data = {}\n",
    "        grads = {}\n",
    "        scale = {}\n",
    "        mask = None\n",
    "        masks = {}\n",
    "        if 'mgda' in params['algorithm']:\n",
    "            # Will use our MGDA_UB if approximate_norm_solution is True. Otherwise, will use MGDA\n",
    "\n",
    "            if approximate_norm_solution:\n",
    "                optimizer.zero_grad()\n",
    "                # First compute representations (z)\n",
    "                images_volatile = Variable(images.data, volatile=True)\n",
    "                rep, mask = model['rep'](images_volatile, mask)\n",
    "                # As an approximate solution we only need gradients for input\n",
    "                if isinstance(rep, list):\n",
    "                    # This is a hack to handle psp-net\n",
    "                    rep = rep[0]\n",
    "                    rep_variable = [Variable(rep.data.clone(), requires_grad=True)]\n",
    "                    list_rep = True\n",
    "                else:\n",
    "                    rep_variable = Variable(rep.data.clone(), requires_grad=True)\n",
    "                    list_rep = False\n",
    "\n",
    "                # Compute gradients of each loss function wrt z\n",
    "                for t in tasks:\n",
    "                    optimizer.zero_grad()\n",
    "                    out_t, masks[t] = model[t](rep_variable, None)\n",
    "                    loss = loss_fn[t](out_t, labels[t])\n",
    "                    loss_data[t] = loss.item()\n",
    "                    loss.backward()\n",
    "                    grads[t] = []\n",
    "                    if list_rep:\n",
    "                        grads[t].append(Variable(rep_variable[0].grad.data.clone(), requires_grad=False))\n",
    "                        rep_variable[0].grad.data.zero_()\n",
    "                    else:\n",
    "                        grads[t].append(Variable(rep_variable.grad.data.clone(), requires_grad=False))\n",
    "                        rep_variable.grad.data.zero_()\n",
    "            else:\n",
    "                # This is MGDA\n",
    "                for t in tasks:\n",
    "                    # Comptue gradients of each loss function wrt parameters\n",
    "                    optimizer.zero_grad()\n",
    "                    rep, mask = model['rep'](images, mask)\n",
    "                    out_t, masks[t] = model[t](rep, None)\n",
    "                    loss = loss_fn[t](out_t, labels[t])\n",
    "                    loss_data[t] = loss.item()\n",
    "                    loss.backward()\n",
    "                    grads[t] = []\n",
    "                    for param in model['rep'].parameters():\n",
    "                        if param.grad is not None:\n",
    "                            grads[t].append(Variable(param.grad.data.clone(), requires_grad=False))\n",
    "\n",
    "            # Normalize all gradients, this is optional and not included in the paper. See the notebook for details\n",
    "            gn = gradient_normalizers(grads, loss_data, params['normalization_type'])\n",
    "            for t in tasks:\n",
    "                for gr_i in range(len(grads[t])):\n",
    "                    grads[t][gr_i] = grads[t][gr_i] / gn[t]\n",
    "\n",
    "            # Frank-Wolfe iteration to compute scales.\n",
    "            sol, min_norm = MinNormSolver.find_min_norm_element([grads[t] for t in tasks])\n",
    "            for i, t in enumerate(tasks):\n",
    "                scale[t] = float(sol[i])\n",
    "        else:\n",
    "            for t in tasks:\n",
    "                masks[t] = None\n",
    "                scale[t] = float(params['scales'][t])\n",
    "\n",
    "        # Scaled back-propagation\n",
    "        optimizer.zero_grad()\n",
    "        rep, _ = model['rep'](images, mask)\n",
    "        for i, t in enumerate(tasks):\n",
    "            out_t, _ = model[t](rep, masks[t])\n",
    "            loss_t = loss_fn[t](out_t, labels[t])\n",
    "            loss_data[t] = loss_t.item()\n",
    "            if i > 0:\n",
    "                loss = loss + scale[t]*loss_t\n",
    "            else:\n",
    "                loss = scale[t]*loss_t\n",
    "        loss.backward()\n",
    "        optimizer.step()\n",
    "\n",
    "        writer.add_scalar('training_loss', loss.item(), n_iter)\n",
    "        for t in tasks:\n",
    "            writer.add_scalar('training_loss_{}'.format(t), loss_data[t], n_iter)\n",
    "\n",
    "    for m in model:\n",
    "        model[m].eval()\n",
    "\n",
    "    tot_loss = {}\n",
    "    tot_loss['all'] = 0.0\n",
    "    met = {}\n",
    "    for t in tasks:\n",
    "        tot_loss[t] = 0.0\n",
    "        met[t] = 0.0\n",
    "\n",
    "    num_val_batches = 0\n",
    "    for batch_val in val_loader:\n",
    "        val_images = Variable(batch_val[0].cuda(), volatile=True)\n",
    "        labels_val = {}\n",
    "\n",
    "        for i, t in enumerate(all_tasks):\n",
    "            if t not in tasks:\n",
    "                continue\n",
    "            labels_val[t] = batch_val[i+1]\n",
    "            labels_val[t] = Variable(labels_val[t].cuda(), volatile=True)\n",
    "\n",
    "        val_rep, _ = model['rep'](val_images, None)\n",
    "        for t in tasks:\n",
    "            out_t_val, _ = model[t](val_rep, None)\n",
    "            loss_t = loss_fn[t](out_t_val, labels_val[t])\n",
    "            tot_loss['all'] += loss_t.item()\n",
    "            tot_loss[t] += loss_t.item()\n",
    "            metric[t].update(out_t_val, labels_val[t])\n",
    "        num_val_batches+=1\n",
    "\n",
    "    for t in tasks:\n",
    "        writer.add_scalar('validation_loss_{}'.format(t), tot_loss[t]/num_val_batches, n_iter)\n",
    "        metric_results = metric[t].get_result()\n",
    "        for metric_key in metric_results:\n",
    "            writer.add_scalar('metric_{}_{}'.format(metric_key, t), metric_results[metric_key], n_iter)\n",
    "        metric[t].reset()\n",
    "    writer.add_scalar('validation_loss', tot_loss['all']/len(val_dst), n_iter)\n",
    "\n",
    "    if epoch % 3 == 0:\n",
    "        # Save after every 3 epoch\n",
    "        state = {'epoch': epoch+1,\n",
    "                'model_rep': model['rep'].state_dict(),\n",
    "                'optimizer_state' : optimizer.state_dict()}\n",
    "        for t in tasks:\n",
    "            key_name = 'model_{}'.format(t)\n",
    "            state[key_name] = model[t].state_dict()\n",
    "\n",
    "        torch.save(state, \"saved_models/{}_{}_model.pkl\".format(params['exp_id'], epoch+1))\n",
    "\n",
    "    end = timer()\n",
    "    print('Epoch ended in {}s'.format(end - start))"
   ]
  }
 ],
 "metadata": {
  "kernelspec": {
   "display_name": "Python 3",
   "language": "python",
   "name": "python3"
  },
  "language_info": {
   "codemirror_mode": {
    "name": "ipython",
    "version": 3
   },
   "file_extension": ".py",
   "mimetype": "text/x-python",
   "name": "python",
   "nbconvert_exporter": "python",
   "pygments_lexer": "ipython3",
   "version": "3.6.8"
  }
 },
 "nbformat": 4,
 "nbformat_minor": 2
}
